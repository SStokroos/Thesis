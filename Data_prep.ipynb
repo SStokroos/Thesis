{
 "cells": [
  {
   "cell_type": "code",
   "execution_count": 7,
   "metadata": {},
   "outputs": [],
   "source": [
    "import pandas as pd\n",
    "\n",
    "movies_path = 'data/movies.dat'\n",
    "ratings_path = 'data/ratings.dat'\n",
    "users_path = 'data/users.dat'"
   ]
  },
  {
   "cell_type": "code",
   "execution_count": 8,
   "metadata": {},
   "outputs": [
    {
     "data": {
      "text/plain": [
       "(   MovieID                               Title                        Genres\n",
       " 0        1                    Toy Story (1995)   Animation|Children's|Comedy\n",
       " 1        2                      Jumanji (1995)  Adventure|Children's|Fantasy\n",
       " 2        3             Grumpier Old Men (1995)                Comedy|Romance\n",
       " 3        4            Waiting to Exhale (1995)                  Comedy|Drama\n",
       " 4        5  Father of the Bride Part II (1995)                        Comedy,\n",
       "    UserID  MovieID  Rating  Timestamp\n",
       " 0       1     1193       5  978300760\n",
       " 1       1      661       3  978302109\n",
       " 2       1      914       3  978301968\n",
       " 3       1     3408       4  978300275\n",
       " 4       1     2355       5  978824291,\n",
       "    UserID Gender  Age  Occupation Zip-code\n",
       " 0       1      F    1          10    48067\n",
       " 1       2      M   56          16    70072\n",
       " 2       3      M   25          15    55117\n",
       " 3       4      M   45           7    02460\n",
       " 4       5      M   25          20    55455)"
      ]
     },
     "execution_count": 8,
     "metadata": {},
     "output_type": "execute_result"
    }
   ],
   "source": [
    "# Attempt to load the datasets with ISO-8859-1 encoding to handle any non-UTF-8 characters\n",
    "movies_columns = ['MovieID', 'Title', 'Genres']\n",
    "ratings_columns = ['UserID', 'MovieID', 'Rating', 'Timestamp']\n",
    "users_columns = ['UserID', 'Gender', 'Age', 'Occupation', 'Zip-code']\n",
    "\n",
    "def load_data(file_path, columns, encoding='ISO-8859-1'):\n",
    "    return pd.read_csv(file_path, sep='::', engine='python', names=columns, encoding=encoding)\n",
    "\n",
    "movies_df = load_data(movies_path, movies_columns)\n",
    "ratings_df = load_data(ratings_path, ratings_columns)\n",
    "users_df = load_data(users_path, users_columns)\n",
    "\n",
    "movies_df.head(), ratings_df.head(), users_df.head()\n"
   ]
  },
  {
   "cell_type": "code",
   "execution_count": 9,
   "metadata": {},
   "outputs": [],
   "source": [
    "# Extract unique genres from the movies dataset\n",
    "unique_genres = set()\n",
    "movies_df['Genres'].str.split('|').apply(unique_genres.update)\n",
    "\n",
    "# Expanding the genres in the movies dataframe into separate binary columns\n",
    "movies_genres_expanded = movies_df.copy()\n",
    "for genre in unique_genres:\n",
    "    movies_genres_expanded[genre] = movies_genres_expanded['Genres'].apply(lambda x: genre in x).astype(int)\n",
    "\n",
    "# Merging the expanded movies dataframe with the ratings dataframe\n",
    "ratings_movies_merged = pd.merge(ratings_df, movies_genres_expanded, on='MovieID')\n",
    "\n",
    "# Finally, merging the above with the users dataframe to get all user info\n",
    "full_dataset = pd.merge(ratings_movies_merged, users_df, on='UserID')\n",
    "\n",
    "# Selecting columns to view the structure clearly, including all genres\n",
    "base_columns = ['UserID', 'MovieID', 'Rating', 'Gender', 'Age', 'Occupation']\n",
    "genre_columns = list(unique_genres)\n",
    "selected_columns = base_columns + genre_columns\n",
    "\n",
    "\n",
    "full_dataset[selected_columns].shape\n",
    "full_dataset = full_dataset.drop(['Genres', 'Timestamp', 'Zip-code'], axis = 1)\n"
   ]
  },
  {
   "cell_type": "code",
   "execution_count": 10,
   "metadata": {},
   "outputs": [],
   "source": [
    "output_file_path = 'data/full_dataset.csv'\n",
    "full_dataset.to_csv(output_file_path, index=False)"
   ]
  },
  {
   "cell_type": "code",
   "execution_count": 11,
   "metadata": {},
   "outputs": [
    {
     "name": "stdout",
     "output_type": "stream",
     "text": [
      "Requirement already satisfied: econml in c:\\users\\sten stokroos\\anaconda3\\lib\\site-packages (0.15.0)\n",
      "Requirement already satisfied: numpy in c:\\users\\sten stokroos\\anaconda3\\lib\\site-packages (from econml) (1.24.3)\n",
      "Requirement already satisfied: scipy>1.4.0 in c:\\users\\sten stokroos\\anaconda3\\lib\\site-packages (from econml) (1.10.1)\n",
      "Requirement already satisfied: scikit-learn<1.5,>=1.0 in c:\\users\\sten stokroos\\anaconda3\\lib\\site-packages (from econml) (1.3.0)\n",
      "Requirement already satisfied: sparse in c:\\users\\sten stokroos\\anaconda3\\lib\\site-packages (from econml) (0.15.1)\n",
      "Requirement already satisfied: joblib>=0.13.0 in c:\\users\\sten stokroos\\anaconda3\\lib\\site-packages (from econml) (1.2.0)\n",
      "Requirement already satisfied: statsmodels>=0.10 in c:\\users\\sten stokroos\\anaconda3\\lib\\site-packages (from econml) (0.14.0)\n",
      "Requirement already satisfied: pandas>1.0 in c:\\users\\sten stokroos\\anaconda3\\lib\\site-packages (from econml) (1.5.3)\n",
      "Requirement already satisfied: shap<0.44.0,>=0.38.1 in c:\\users\\sten stokroos\\anaconda3\\lib\\site-packages (from econml) (0.43.0)\n",
      "Requirement already satisfied: lightgbm in c:\\users\\sten stokroos\\anaconda3\\lib\\site-packages (from econml) (4.3.0)\n",
      "Requirement already satisfied: python-dateutil>=2.8.1 in c:\\users\\sten stokroos\\anaconda3\\lib\\site-packages (from pandas>1.0->econml) (2.8.2)\n",
      "Requirement already satisfied: pytz>=2020.1 in c:\\users\\sten stokroos\\anaconda3\\lib\\site-packages (from pandas>1.0->econml) (2022.7)\n",
      "Requirement already satisfied: threadpoolctl>=2.0.0 in c:\\users\\sten stokroos\\anaconda3\\lib\\site-packages (from scikit-learn<1.5,>=1.0->econml) (2.2.0)\n",
      "Requirement already satisfied: tqdm>=4.27.0 in c:\\users\\sten stokroos\\anaconda3\\lib\\site-packages (from shap<0.44.0,>=0.38.1->econml) (4.65.0)\n",
      "Requirement already satisfied: packaging>20.9 in c:\\users\\sten stokroos\\anaconda3\\lib\\site-packages (from shap<0.44.0,>=0.38.1->econml) (23.0)\n",
      "Requirement already satisfied: slicer==0.0.7 in c:\\users\\sten stokroos\\anaconda3\\lib\\site-packages (from shap<0.44.0,>=0.38.1->econml) (0.0.7)\n",
      "Requirement already satisfied: numba in c:\\users\\sten stokroos\\anaconda3\\lib\\site-packages (from shap<0.44.0,>=0.38.1->econml) (0.57.0)\n",
      "Requirement already satisfied: cloudpickle in c:\\users\\sten stokroos\\anaconda3\\lib\\site-packages (from shap<0.44.0,>=0.38.1->econml) (2.2.1)\n",
      "Requirement already satisfied: patsy>=0.5.2 in c:\\users\\sten stokroos\\anaconda3\\lib\\site-packages (from statsmodels>=0.10->econml) (0.5.3)\n",
      "Requirement already satisfied: llvmlite<0.41,>=0.40.0dev0 in c:\\users\\sten stokroos\\anaconda3\\lib\\site-packages (from numba->shap<0.44.0,>=0.38.1->econml) (0.40.0)\n",
      "Requirement already satisfied: six in c:\\users\\sten stokroos\\anaconda3\\lib\\site-packages (from patsy>=0.5.2->statsmodels>=0.10->econml) (1.16.0)\n",
      "Requirement already satisfied: colorama in c:\\users\\sten stokroos\\anaconda3\\lib\\site-packages (from tqdm>=4.27.0->shap<0.44.0,>=0.38.1->econml) (0.4.6)\n"
     ]
    }
   ],
   "source": [
    "\n"
   ]
  },
  {
   "cell_type": "code",
   "execution_count": null,
   "metadata": {},
   "outputs": [],
   "source": []
  },
  {
   "cell_type": "code",
   "execution_count": null,
   "metadata": {},
   "outputs": [],
   "source": []
  }
 ],
 "metadata": {
  "kernelspec": {
   "display_name": "Python 3",
   "language": "python",
   "name": "python3"
  },
  "language_info": {
   "codemirror_mode": {
    "name": "ipython",
    "version": 3
   },
   "file_extension": ".py",
   "mimetype": "text/x-python",
   "name": "python",
   "nbconvert_exporter": "python",
   "pygments_lexer": "ipython3",
   "version": "3.11.4"
  }
 },
 "nbformat": 4,
 "nbformat_minor": 2
}
