{
 "cells": [
  {
   "cell_type": "code",
   "execution_count": 3,
   "metadata": {},
   "outputs": [],
   "source": [
    "import pandas as pd\n",
    "\n",
    "# Assuming the structure of the files is user_id, song_id, rating and they are tab-separated\n",
    "# Load the train and test datasets\n",
    "train_data = pd.read_csv('data/webscope_train.txt', sep='\\t', header=None, names=['user_id', 'song_id', 'rating'])\n",
    "test_data = pd.read_csv('data/webscope_test.txt', sep='\\t', header=None, names=['user_id', 'song_id', 'rating'])\n",
    "\n",
    "# Add a binary column 'Treatment' indicating whether the song was recommended (1) or selected (0)\n",
    "train_data['Treatment'] = 0  # Songs they selected themselves\n",
    "test_data['Treatment'] = 1   # Songs that were randomly recommended\n",
    "\n",
    "# Combine the datasets\n",
    "combined_data = pd.concat([train_data, test_data])\n",
    "\n",
    "# Filter out users who are not in both datasets\n",
    "# Find users who are in both datasets (intersection)\n",
    "\n",
    "# users_in_both = set(train_data['user_id']).intersection(set(test_data['user_id']))\n",
    "\n",
    "# # Keep only the data for those users (filtering any user_id greater than 5400 as well)\n",
    "# combined_data_filtered = combined_data[combined_data['user_id'].isin(users_in_both) & (combined_data['user_id'] <= 5400)]\n",
    "\n",
    "grouped_data = combined_data.groupby(['user_id', 'song_id']).agg({'rating': 'mean', 'Treatment': 'first'}).reset_index()\n",
    "\n",
    "# The resulting 'combined_data_filtered' DataFrame has the data combined with the required conditions\n",
    "grouped_data.to_csv('data/grouped_yahoo.csv', index=False)  # Saving the filtered combined data to a CSV file\n",
    "\n"
   ]
  },
  {
   "cell_type": "code",
   "execution_count": null,
   "metadata": {},
   "outputs": [],
   "source": [
    "#pp"
   ]
  }
 ],
 "metadata": {
  "kernelspec": {
   "display_name": "base",
   "language": "python",
   "name": "python3"
  },
  "language_info": {
   "codemirror_mode": {
    "name": "ipython",
    "version": 3
   },
   "file_extension": ".py",
   "mimetype": "text/x-python",
   "name": "python",
   "nbconvert_exporter": "python",
   "pygments_lexer": "ipython3",
   "version": "3.11.4"
  }
 },
 "nbformat": 4,
 "nbformat_minor": 2
}
